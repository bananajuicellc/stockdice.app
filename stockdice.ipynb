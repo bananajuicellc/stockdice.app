{
 "cells": [
  {
   "cell_type": "code",
   "execution_count": 2,
   "metadata": {},
   "outputs": [],
   "source": [
    "import pandas\n",
    "import numpy\n",
    "import os.path"
   ]
  },
  {
   "cell_type": "code",
   "execution_count": 3,
   "metadata": {},
   "outputs": [],
   "source": [
    "nasdaq = pandas.read_csv(os.path.join('third_party', 'nasdaq', 'nasdaq.csv'))"
   ]
  },
  {
   "cell_type": "code",
   "execution_count": 4,
   "metadata": {},
   "outputs": [],
   "source": [
    "def mc_to_float(cap):\n",
    "  #if not cap:\n",
    "  # return numpy.nan\n",
    "  #if not cap.startswith('$'):\n",
    "  #  return numpy.nan\n",
    "  cap = cap[1:]\n",
    "  multiplier = 1.0\n",
    "  if cap.endswith('K'):\n",
    "    multiplier = 1000.0\n",
    "  elif cap.endswith('M'):\n",
    "    multiplier = 1.0e6\n",
    "  elif cap.endswith('B'):\n",
    "    multiplier = 1.0e9\n",
    "  elif cap.endswith('T'):\n",
    "    multiplier =1.0e12\n",
    "\n",
    "  return float(cap[:-1]) * multiplier"
   ]
  },
  {
   "cell_type": "code",
   "execution_count": 6,
   "metadata": {},
   "outputs": [],
   "source": [
    "nasdaq = nasdaq[nasdaq.MarketCap.notna()]\n",
    "nasdaq = nasdaq.assign(MarketCap=nasdaq.MarketCap.apply(mc_to_float))"
   ]
  },
  {
   "cell_type": "code",
   "execution_count": 7,
   "metadata": {},
   "outputs": [],
   "source": [
    "nyse = pandas.read_csv(os.path.join('third_party', 'nasdaq', 'nyse.csv'))\n",
    "nyse = nyse[nyse.MarketCap.notna()]\n",
    "nyse = nyse.assign(MarketCap=nyse.MarketCap.apply(mc_to_float))"
   ]
  },
  {
   "cell_type": "code",
   "execution_count": 9,
   "metadata": {},
   "outputs": [],
   "source": [
    "amex = pandas.read_csv(os.path.join('third_party', 'nasdaq', 'amex.csv'))\n",
    "amex = amex[amex.MarketCap.notna()]\n",
    "amex = amex.assign(MarketCap=amex.MarketCap.apply(mc_to_float))"
   ]
  },
  {
   "cell_type": "code",
   "execution_count": 10,
   "metadata": {},
   "outputs": [],
   "source": [
    "nasdaq = nasdaq.assign(Market='nasdaq')\n",
    "nyse = nyse.assign(Market='nyse')\n",
    "amex = amex.assign(Market='amex')"
   ]
  },
  {
   "cell_type": "code",
   "execution_count": 11,
   "metadata": {},
   "outputs": [
    {
     "data": {
      "text/html": [
       "<div>\n",
       "<style scoped>\n",
       "    .dataframe tbody tr th:only-of-type {\n",
       "        vertical-align: middle;\n",
       "    }\n",
       "\n",
       "    .dataframe tbody tr th {\n",
       "        vertical-align: top;\n",
       "    }\n",
       "\n",
       "    .dataframe thead th {\n",
       "        text-align: right;\n",
       "    }\n",
       "</style>\n",
       "<table border=\"1\" class=\"dataframe\">\n",
       "  <thead>\n",
       "    <tr style=\"text-align: right;\">\n",
       "      <th></th>\n",
       "      <th>Symbol</th>\n",
       "      <th>Name</th>\n",
       "      <th>LastSale</th>\n",
       "      <th>MarketCap</th>\n",
       "      <th>IPOyear</th>\n",
       "      <th>Sector</th>\n",
       "      <th>industry</th>\n",
       "      <th>Summary Quote</th>\n",
       "      <th>Unnamed: 8</th>\n",
       "      <th>Market</th>\n",
       "    </tr>\n",
       "  </thead>\n",
       "  <tbody>\n",
       "    <tr>\n",
       "      <th>0</th>\n",
       "      <td>PIH</td>\n",
       "      <td>1347 Property Insurance Holdings, Inc.</td>\n",
       "      <td>7.2000</td>\n",
       "      <td>4.309000e+07</td>\n",
       "      <td>2014.0</td>\n",
       "      <td>Finance</td>\n",
       "      <td>Property-Casualty Insurers</td>\n",
       "      <td>https://www.nasdaq.com/symbol/pih</td>\n",
       "      <td>NaN</td>\n",
       "      <td>nasdaq</td>\n",
       "    </tr>\n",
       "    <tr>\n",
       "      <th>2</th>\n",
       "      <td>TURN</td>\n",
       "      <td>180 Degree Capital Corp.</td>\n",
       "      <td>2.2899</td>\n",
       "      <td>7.127000e+07</td>\n",
       "      <td>NaN</td>\n",
       "      <td>Finance</td>\n",
       "      <td>Finance/Investors Services</td>\n",
       "      <td>https://www.nasdaq.com/symbol/turn</td>\n",
       "      <td>NaN</td>\n",
       "      <td>nasdaq</td>\n",
       "    </tr>\n",
       "    <tr>\n",
       "      <th>3</th>\n",
       "      <td>FLWS</td>\n",
       "      <td>1-800 FLOWERS.COM, Inc.</td>\n",
       "      <td>14.3750</td>\n",
       "      <td>9.286800e+08</td>\n",
       "      <td>1999.0</td>\n",
       "      <td>Consumer Services</td>\n",
       "      <td>Other Specialty Stores</td>\n",
       "      <td>https://www.nasdaq.com/symbol/flws</td>\n",
       "      <td>NaN</td>\n",
       "      <td>nasdaq</td>\n",
       "    </tr>\n",
       "    <tr>\n",
       "      <th>4</th>\n",
       "      <td>FCCY</td>\n",
       "      <td>1st Constitution Bancorp (NJ)</td>\n",
       "      <td>22.1500</td>\n",
       "      <td>1.856000e+08</td>\n",
       "      <td>NaN</td>\n",
       "      <td>Finance</td>\n",
       "      <td>Savings Institutions</td>\n",
       "      <td>https://www.nasdaq.com/symbol/fccy</td>\n",
       "      <td>NaN</td>\n",
       "      <td>nasdaq</td>\n",
       "    </tr>\n",
       "    <tr>\n",
       "      <th>5</th>\n",
       "      <td>SRCE</td>\n",
       "      <td>1st Source Corporation</td>\n",
       "      <td>56.1700</td>\n",
       "      <td>1.460000e+09</td>\n",
       "      <td>NaN</td>\n",
       "      <td>Finance</td>\n",
       "      <td>Major Banks</td>\n",
       "      <td>https://www.nasdaq.com/symbol/srce</td>\n",
       "      <td>NaN</td>\n",
       "      <td>nasdaq</td>\n",
       "    </tr>\n",
       "  </tbody>\n",
       "</table>\n",
       "</div>"
      ],
      "text/plain": [
       "  Symbol                                    Name  LastSale     MarketCap  \\\n",
       "0    PIH  1347 Property Insurance Holdings, Inc.    7.2000  4.309000e+07   \n",
       "2   TURN                180 Degree Capital Corp.    2.2899  7.127000e+07   \n",
       "3   FLWS                 1-800 FLOWERS.COM, Inc.   14.3750  9.286800e+08   \n",
       "4   FCCY           1st Constitution Bancorp (NJ)   22.1500  1.856000e+08   \n",
       "5   SRCE                  1st Source Corporation   56.1700  1.460000e+09   \n",
       "\n",
       "   IPOyear             Sector                    industry  \\\n",
       "0   2014.0            Finance  Property-Casualty Insurers   \n",
       "2      NaN            Finance  Finance/Investors Services   \n",
       "3   1999.0  Consumer Services      Other Specialty Stores   \n",
       "4      NaN            Finance        Savings Institutions   \n",
       "5      NaN            Finance                 Major Banks   \n",
       "\n",
       "                        Summary Quote  Unnamed: 8  Market  \n",
       "0   https://www.nasdaq.com/symbol/pih         NaN  nasdaq  \n",
       "2  https://www.nasdaq.com/symbol/turn         NaN  nasdaq  \n",
       "3  https://www.nasdaq.com/symbol/flws         NaN  nasdaq  \n",
       "4  https://www.nasdaq.com/symbol/fccy         NaN  nasdaq  \n",
       "5  https://www.nasdaq.com/symbol/srce         NaN  nasdaq  "
      ]
     },
     "execution_count": 11,
     "metadata": {},
     "output_type": "execute_result"
    }
   ],
   "source": [
    "stocks = pandas.concat([nasdaq, nyse, amex])\n",
    "stocks.head()"
   ]
  },
  {
   "cell_type": "code",
   "execution_count": 12,
   "metadata": {},
   "outputs": [
    {
     "data": {
      "text/html": [
       "<div>\n",
       "<style scoped>\n",
       "    .dataframe tbody tr th:only-of-type {\n",
       "        vertical-align: middle;\n",
       "    }\n",
       "\n",
       "    .dataframe tbody tr th {\n",
       "        vertical-align: top;\n",
       "    }\n",
       "\n",
       "    .dataframe thead th {\n",
       "        text-align: right;\n",
       "    }\n",
       "</style>\n",
       "<table border=\"1\" class=\"dataframe\">\n",
       "  <thead>\n",
       "    <tr style=\"text-align: right;\">\n",
       "      <th></th>\n",
       "      <th>Symbol</th>\n",
       "      <th>Name</th>\n",
       "      <th>LastSale</th>\n",
       "      <th>MarketCap</th>\n",
       "      <th>IPOyear</th>\n",
       "      <th>Sector</th>\n",
       "      <th>industry</th>\n",
       "      <th>Summary Quote</th>\n",
       "      <th>Unnamed: 8</th>\n",
       "      <th>Market</th>\n",
       "    </tr>\n",
       "  </thead>\n",
       "  <tbody>\n",
       "    <tr>\n",
       "      <th>623</th>\n",
       "      <td>CTL</td>\n",
       "      <td>CenturyLink, Inc.</td>\n",
       "      <td>18.83</td>\n",
       "      <td>2.031000e+10</td>\n",
       "      <td>NaN</td>\n",
       "      <td>Public Utilities</td>\n",
       "      <td>Telecommunications Equipment</td>\n",
       "      <td>https://www.nasdaq.com/symbol/ctl</td>\n",
       "      <td>NaN</td>\n",
       "      <td>nyse</td>\n",
       "    </tr>\n",
       "  </tbody>\n",
       "</table>\n",
       "</div>"
      ],
      "text/plain": [
       "    Symbol               Name  LastSale     MarketCap  IPOyear  \\\n",
       "623    CTL  CenturyLink, Inc.     18.83  2.031000e+10      NaN   \n",
       "\n",
       "               Sector                      industry  \\\n",
       "623  Public Utilities  Telecommunications Equipment   \n",
       "\n",
       "                         Summary Quote  Unnamed: 8 Market  \n",
       "623  https://www.nasdaq.com/symbol/ctl         NaN   nyse  "
      ]
     },
     "execution_count": 12,
     "metadata": {},
     "output_type": "execute_result"
    }
   ],
   "source": [
    "stocks.sample(weights=stocks.MarketCap)"
   ]
  },
  {
   "cell_type": "code",
   "execution_count": null,
   "metadata": {},
   "outputs": [],
   "source": []
  }
 ],
 "metadata": {
  "kernelspec": {
   "display_name": "Python 3",
   "language": "python",
   "name": "python3"
  },
  "language_info": {
   "codemirror_mode": {
    "name": "ipython",
    "version": 3
   },
   "file_extension": ".py",
   "mimetype": "text/x-python",
   "name": "python",
   "nbconvert_exporter": "python",
   "pygments_lexer": "ipython3",
   "version": "3.6.4"
  }
 },
 "nbformat": 4,
 "nbformat_minor": 2
}
