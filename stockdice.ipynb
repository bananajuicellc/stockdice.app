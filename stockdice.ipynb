{
 "cells": [
  {
   "cell_type": "code",
   "execution_count": 1,
   "metadata": {},
   "outputs": [
    {
     "name": "stderr",
     "output_type": "stream",
     "text": [
      "/Users/tswast/.pyenv/versions/3.6.4/lib/python3.6/importlib/_bootstrap.py:219: RuntimeWarning: numpy.dtype size changed, may indicate binary incompatibility. Expected 96, got 88\n",
      "  return f(*args, **kwds)\n"
     ]
    }
   ],
   "source": [
    "import pandas\n",
    "import numpy\n",
    "import os.path"
   ]
  },
  {
   "cell_type": "code",
   "execution_count": 2,
   "metadata": {},
   "outputs": [],
   "source": [
    "nasdaq = pandas.read_csv(os.path.join('third_party', 'nasdaq', 'nasdaq.csv'))"
   ]
  },
  {
   "cell_type": "code",
   "execution_count": 3,
   "metadata": {},
   "outputs": [],
   "source": [
    "def mc_to_float(cap):\n",
    "  #if not cap:\n",
    "  # return numpy.nan\n",
    "  #if not cap.startswith('$'):\n",
    "  #  return numpy.nan\n",
    "  cap = cap[1:]\n",
    "  multiplier = 1.0\n",
    "  if cap.endswith('K'):\n",
    "    multiplier = 1000.0\n",
    "  elif cap.endswith('M'):\n",
    "    multiplier = 1.0e6\n",
    "  elif cap.endswith('B'):\n",
    "    multiplier = 1.0e9\n",
    "  elif cap.endswith('T'):\n",
    "    multiplier =1.0e12\n",
    "\n",
    "  return float(cap[:-1]) * multiplier"
   ]
  },
  {
   "cell_type": "code",
   "execution_count": 4,
   "metadata": {},
   "outputs": [],
   "source": [
    "nasdaq = nasdaq[nasdaq.MarketCap.notna()]\n",
    "nasdaq = nasdaq.assign(MarketCap=nasdaq.MarketCap.apply(mc_to_float))"
   ]
  },
  {
   "cell_type": "code",
   "execution_count": 5,
   "metadata": {},
   "outputs": [],
   "source": [
    "nyse = pandas.read_csv(os.path.join('third_party', 'nasdaq', 'nyse.csv'))\n",
    "nyse = nyse[nyse.MarketCap.notna()]\n",
    "nyse = nyse.assign(MarketCap=nyse.MarketCap.apply(mc_to_float))"
   ]
  },
  {
   "cell_type": "code",
   "execution_count": 6,
   "metadata": {},
   "outputs": [],
   "source": [
    "amex = pandas.read_csv(os.path.join('third_party', 'nasdaq', 'amex.csv'))\n",
    "amex = amex[amex.MarketCap.notna()]\n",
    "amex = amex.assign(MarketCap=amex.MarketCap.apply(mc_to_float))"
   ]
  },
  {
   "cell_type": "code",
   "execution_count": 7,
   "metadata": {},
   "outputs": [],
   "source": [
    "nasdaq = nasdaq.assign(Market='nasdaq')\n",
    "nyse = nyse.assign(Market='nyse')\n",
    "amex = amex.assign(Market='amex')"
   ]
  },
  {
   "cell_type": "code",
   "execution_count": 8,
   "metadata": {},
   "outputs": [
    {
     "data": {
      "text/html": [
       "<div>\n",
       "<style scoped>\n",
       "    .dataframe tbody tr th:only-of-type {\n",
       "        vertical-align: middle;\n",
       "    }\n",
       "\n",
       "    .dataframe tbody tr th {\n",
       "        vertical-align: top;\n",
       "    }\n",
       "\n",
       "    .dataframe thead th {\n",
       "        text-align: right;\n",
       "    }\n",
       "</style>\n",
       "<table border=\"1\" class=\"dataframe\">\n",
       "  <thead>\n",
       "    <tr style=\"text-align: right;\">\n",
       "      <th></th>\n",
       "      <th>Symbol</th>\n",
       "      <th>Name</th>\n",
       "      <th>LastSale</th>\n",
       "      <th>MarketCap</th>\n",
       "      <th>IPOyear</th>\n",
       "      <th>Sector</th>\n",
       "      <th>industry</th>\n",
       "      <th>Summary Quote</th>\n",
       "      <th>Unnamed: 8</th>\n",
       "      <th>Market</th>\n",
       "    </tr>\n",
       "  </thead>\n",
       "  <tbody>\n",
       "    <tr>\n",
       "      <th>1</th>\n",
       "      <td>PIH</td>\n",
       "      <td>1347 Property Insurance Holdings, Inc.</td>\n",
       "      <td>4.9900</td>\n",
       "      <td>2.986000e+07</td>\n",
       "      <td>2014.0</td>\n",
       "      <td>Finance</td>\n",
       "      <td>Property-Casualty Insurers</td>\n",
       "      <td>https://www.nasdaq.com/symbol/pih</td>\n",
       "      <td>NaN</td>\n",
       "      <td>nasdaq</td>\n",
       "    </tr>\n",
       "    <tr>\n",
       "      <th>3</th>\n",
       "      <td>TURN</td>\n",
       "      <td>180 Degree Capital Corp.</td>\n",
       "      <td>1.9569</td>\n",
       "      <td>6.090000e+07</td>\n",
       "      <td>NaN</td>\n",
       "      <td>Finance</td>\n",
       "      <td>Finance/Investors Services</td>\n",
       "      <td>https://www.nasdaq.com/symbol/turn</td>\n",
       "      <td>NaN</td>\n",
       "      <td>nasdaq</td>\n",
       "    </tr>\n",
       "    <tr>\n",
       "      <th>4</th>\n",
       "      <td>FLWS</td>\n",
       "      <td>1-800 FLOWERS.COM, Inc.</td>\n",
       "      <td>12.2900</td>\n",
       "      <td>7.887500e+08</td>\n",
       "      <td>1999.0</td>\n",
       "      <td>Consumer Services</td>\n",
       "      <td>Other Specialty Stores</td>\n",
       "      <td>https://www.nasdaq.com/symbol/flws</td>\n",
       "      <td>NaN</td>\n",
       "      <td>nasdaq</td>\n",
       "    </tr>\n",
       "    <tr>\n",
       "      <th>5</th>\n",
       "      <td>FCCY</td>\n",
       "      <td>1st Constitution Bancorp (NJ)</td>\n",
       "      <td>19.9000</td>\n",
       "      <td>1.672500e+08</td>\n",
       "      <td>NaN</td>\n",
       "      <td>Finance</td>\n",
       "      <td>Savings Institutions</td>\n",
       "      <td>https://www.nasdaq.com/symbol/fccy</td>\n",
       "      <td>NaN</td>\n",
       "      <td>nasdaq</td>\n",
       "    </tr>\n",
       "    <tr>\n",
       "      <th>6</th>\n",
       "      <td>SRCE</td>\n",
       "      <td>1st Source Corporation</td>\n",
       "      <td>45.7900</td>\n",
       "      <td>1.190000e+09</td>\n",
       "      <td>NaN</td>\n",
       "      <td>Finance</td>\n",
       "      <td>Major Banks</td>\n",
       "      <td>https://www.nasdaq.com/symbol/srce</td>\n",
       "      <td>NaN</td>\n",
       "      <td>nasdaq</td>\n",
       "    </tr>\n",
       "  </tbody>\n",
       "</table>\n",
       "</div>"
      ],
      "text/plain": [
       "  Symbol                                    Name  LastSale     MarketCap  \\\n",
       "1    PIH  1347 Property Insurance Holdings, Inc.    4.9900  2.986000e+07   \n",
       "3   TURN                180 Degree Capital Corp.    1.9569  6.090000e+07   \n",
       "4   FLWS                 1-800 FLOWERS.COM, Inc.   12.2900  7.887500e+08   \n",
       "5   FCCY           1st Constitution Bancorp (NJ)   19.9000  1.672500e+08   \n",
       "6   SRCE                  1st Source Corporation   45.7900  1.190000e+09   \n",
       "\n",
       "   IPOyear             Sector                    industry  \\\n",
       "1   2014.0            Finance  Property-Casualty Insurers   \n",
       "3      NaN            Finance  Finance/Investors Services   \n",
       "4   1999.0  Consumer Services      Other Specialty Stores   \n",
       "5      NaN            Finance        Savings Institutions   \n",
       "6      NaN            Finance                 Major Banks   \n",
       "\n",
       "                        Summary Quote  Unnamed: 8  Market  \n",
       "1   https://www.nasdaq.com/symbol/pih         NaN  nasdaq  \n",
       "3  https://www.nasdaq.com/symbol/turn         NaN  nasdaq  \n",
       "4  https://www.nasdaq.com/symbol/flws         NaN  nasdaq  \n",
       "5  https://www.nasdaq.com/symbol/fccy         NaN  nasdaq  \n",
       "6  https://www.nasdaq.com/symbol/srce         NaN  nasdaq  "
      ]
     },
     "execution_count": 8,
     "metadata": {},
     "output_type": "execute_result"
    }
   ],
   "source": [
    "stocks = pandas.concat([nasdaq, nyse, amex])\n",
    "stocks.head()"
   ]
  },
  {
   "cell_type": "code",
   "execution_count": 10,
   "metadata": {},
   "outputs": [
    {
     "data": {
      "text/html": [
       "<div>\n",
       "<style scoped>\n",
       "    .dataframe tbody tr th:only-of-type {\n",
       "        vertical-align: middle;\n",
       "    }\n",
       "\n",
       "    .dataframe tbody tr th {\n",
       "        vertical-align: top;\n",
       "    }\n",
       "\n",
       "    .dataframe thead th {\n",
       "        text-align: right;\n",
       "    }\n",
       "</style>\n",
       "<table border=\"1\" class=\"dataframe\">\n",
       "  <thead>\n",
       "    <tr style=\"text-align: right;\">\n",
       "      <th></th>\n",
       "      <th>Symbol</th>\n",
       "      <th>Name</th>\n",
       "      <th>LastSale</th>\n",
       "      <th>MarketCap</th>\n",
       "      <th>IPOyear</th>\n",
       "      <th>Sector</th>\n",
       "      <th>industry</th>\n",
       "      <th>Summary Quote</th>\n",
       "      <th>Unnamed: 8</th>\n",
       "      <th>Market</th>\n",
       "    </tr>\n",
       "  </thead>\n",
       "  <tbody>\n",
       "    <tr>\n",
       "      <th>1662</th>\n",
       "      <td>ISRG</td>\n",
       "      <td>Intuitive Surgical, Inc.</td>\n",
       "      <td>518.82</td>\n",
       "      <td>5.925000e+10</td>\n",
       "      <td>2000.0</td>\n",
       "      <td>Health Care</td>\n",
       "      <td>Industrial Specialties</td>\n",
       "      <td>https://www.nasdaq.com/symbol/isrg</td>\n",
       "      <td>NaN</td>\n",
       "      <td>nasdaq</td>\n",
       "    </tr>\n",
       "  </tbody>\n",
       "</table>\n",
       "</div>"
      ],
      "text/plain": [
       "     Symbol                      Name  LastSale     MarketCap  IPOyear  \\\n",
       "1662   ISRG  Intuitive Surgical, Inc.    518.82  5.925000e+10   2000.0   \n",
       "\n",
       "           Sector                industry                       Summary Quote  \\\n",
       "1662  Health Care  Industrial Specialties  https://www.nasdaq.com/symbol/isrg   \n",
       "\n",
       "      Unnamed: 8  Market  \n",
       "1662         NaN  nasdaq  "
      ]
     },
     "execution_count": 10,
     "metadata": {},
     "output_type": "execute_result"
    }
   ],
   "source": [
    "stocks.sample(weights=stocks.MarketCap)"
   ]
  },
  {
   "cell_type": "code",
   "execution_count": null,
   "metadata": {},
   "outputs": [],
   "source": []
  }
 ],
 "metadata": {
  "kernelspec": {
   "display_name": "Python 3",
   "language": "python",
   "name": "python3"
  },
  "language_info": {
   "codemirror_mode": {
    "name": "ipython",
    "version": 3
   },
   "file_extension": ".py",
   "mimetype": "text/x-python",
   "name": "python",
   "nbconvert_exporter": "python",
   "pygments_lexer": "ipython3",
   "version": "3.6.4"
  }
 },
 "nbformat": 4,
 "nbformat_minor": 2
}
